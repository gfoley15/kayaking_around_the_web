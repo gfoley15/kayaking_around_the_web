{
 "cells": [
  {
   "cell_type": "code",
   "execution_count": 2,
   "id": "cc953f5a",
   "metadata": {},
   "outputs": [],
   "source": [
    "# Import Splinter, BeautifulSoup and dependencies\n",
    "import requests\n",
    "from bs4 import BeautifulSoup as bs\n",
    "from pymongo import MongoClient\n",
    "from splinter import Browser\n",
    "import time"
   ]
  },
  {
   "cell_type": "code",
   "execution_count": 3,
   "id": "95f6a2df",
   "metadata": {},
   "outputs": [],
   "source": [
    "departure = MCI\n",
    "destination = []\n",
    "from_date = []\n",
    "to_date = []"
   ]
  },
  {
   "cell_type": "code",
   "execution_count": 3,
   "id": "8a30454e",
   "metadata": {},
   "outputs": [],
   "source": [
    "browser = Browser('chrome')\n",
    "browser.visit('https://www.kayak.com/flights/MCI-SAN/2024-07-04/2024-07-11')\n",
    "time.sleep(1)"
   ]
  },
  {
   "cell_type": "code",
   "execution_count": 4,
   "id": "ff557031",
   "metadata": {},
   "outputs": [],
   "source": [
    "# Create a Beautiful Soup object\n",
    "soup = bs(browser.html,'html.parser')"
   ]
  },
  {
   "cell_type": "code",
   "execution_count": 67,
   "id": "8af2d5da-8b3f-4a26-8594-234d74b840dd",
   "metadata": {},
   "outputs": [
    {
     "name": "stdout",
     "output_type": "stream",
     "text": [
      "Let’s go. We’ve got places to see.Plan your next trip today.5:45 am – 9:01 amDelta1 stopSLC5h 16mMCI-SAN6:15 am – 1:53 pmDelta1 stopLAX5h 38mSAN-MCIOperated by Skywest DBA Delta ConnectionAd$305Basic EconomyDeltaView Deal$385Main CabinDeltaView Deal\n",
      "Best5:13 pm – 8:40 pmUnited Airlines1 stopDEN5h 27mMCI-SAN4:10 pm – 12:29 am+1United Airlines1 stopSFO6h 19mSAN-MCI$218Basic EconomyUnited AirlinesView Deal$298EconomyUnited AirlinesView Deal\n",
      "Cheapest7:44 pm – 7:07 am+1Frontier1 stopDEN13h 23mMCI-SAN10:20 pm – 6:12 am+1Spirit Airlines1 stopLAS5h 52mSAN-MCI$197EconomyBooking.comView Deal\n",
      "5:59 am – 8:52 amAmerican Airlines1 stopPHX4h 53mMCI-SAN3:31 pm – 11:20 pmAmerican Airlines1 stopDFW5h 49mSAN-MCI$218Basic EconomyAmerican AirlinesView Deal$298Main CabinAmerican AirlinesView Deal\n",
      "5:59 am – 8:52 amAmerican Airlines1 stopPHX4h 53mMCI-SAN4:20 pm – 11:50 pmAmerican Airlines1 stopPHX5h 30mSAN-MCI$244Basic EconomyAmerican AirlinesView Deal$324Main CabinAmerican AirlinesView Deal\n",
      "2:22 pm – 6:08 pmAmerican Airlines1 stopPHX5h 46mMCI-SAN3:31 pm – 11:20 pmAmerican Airlines1 stopDFW5h 49mSAN-MCI$244Basic EconomyAmerican AirlinesView Deal$324Main CabinAmerican AirlinesView Deal\n",
      "2:22 pm – 6:08 pmAmerican Airlines1 stopPHX5h 46mMCI-SAN4:20 pm – 11:50 pmAmerican Airlines1 stopPHX5h 30mSAN-MCI$270Basic EconomyAmerican AirlinesView Deal$350Main CabinAmerican AirlinesView Deal\n",
      "1:45 pm – 5:37 pmUnited Airlines1 stopDEN5h 52mMCI-SAN4:10 pm – 12:29 am+1United Airlines1 stopSFO6h 19mSAN-MCI$218Basic EconomyUnited AirlinesView Deal$298EconomyUnited AirlinesView Deal\n",
      "6:15 am – 9:32 amUnited Airlines1 stopDEN5h 17mMCI-SAN4:10 pm – 12:29 am+1United Airlines1 stopSFO6h 19mSAN-MCI$258Basic EconomyUnited AirlinesView Deal$338EconomyUnited AirlinesView Deal\n",
      "5:13 pm – 8:40 pmUnited Airlines1 stopDEN5h 27mMCI-SAN3:55 pm – 11:35 pmUnited Airlines1 stopDEN5h 40mSAN-MCI$299Basic EconomyUnited AirlinesView Deal$379EconomyUnited AirlinesView Deal\n",
      "3:42 pm – 7:50 pmUnited Airlines1 stopIAH6h 08mMCI-SAN4:10 pm – 12:29 am+1United Airlines1 stopSFO6h 19mSAN-MCIOperated by Mesa Airlines DBA United Express$218Basic EconomyUnited AirlinesView Deal$298EconomyUnited AirlinesView Deal\n",
      "1:45 pm – 5:37 pmUnited Airlines1 stopDEN5h 52mMCI-SAN3:55 pm – 11:35 pmUnited Airlines1 stopDEN5h 40mSAN-MCI$299Basic EconomyUnited AirlinesView Deal$379EconomyUnited AirlinesView Deal\n",
      "6:15 am – 9:32 amUnited Airlines1 stopDEN5h 17mMCI-SAN3:55 pm – 11:35 pmUnited Airlines1 stopDEN5h 40mSAN-MCI$338Basic EconomyUnited AirlinesView Deal$418EconomyUnited AirlinesView Deal\n",
      "9:41 am – 12:37 pmUnited Airlines1 stopDEN4h 56mMCI-SAN4:10 pm – 12:29 am+1United Airlines1 stopSFO6h 19mSAN-MCI$330Basic EconomyUnited AirlinesView Deal$410EconomyUnited AirlinesView Deal\n",
      "5:13 pm – 8:40 pmUnited Airlines1 stopDEN5h 27mMCI-SAN1:39 pm – 10:29 pmUnited Airlines1 stopIAH6h 50mSAN-MCI$265Basic EconomyUnited AirlinesView Deal$345EconomyUnited AirlinesView Deal\n",
      "3:42 pm – 7:50 pmUnited Airlines1 stopIAH6h 08mMCI-SAN3:55 pm – 11:35 pmUnited Airlines1 stopDEN5h 40mSAN-MCIOperated by Mesa Airlines DBA United Express$299Basic EconomyUnited AirlinesView Deal$379EconomyUnited AirlinesView Deal\n",
      "5:59 am – 8:52 amAmerican Airlines1 stopPHX4h 53mMCI-SAN2:23 pm – 11:20 pmAmerican Airlines1 stopDFW6h 57mSAN-MCI$244Basic EconomyAmerican AirlinesView Deal$324Main CabinAmerican AirlinesView Deal\n"
     ]
    }
   ],
   "source": [
    "# Extract all flight text elements\n",
    "for i in soup.find_all(id=\"listWrapper\")[0].find_all('div', class_ = \"nrc6 nrc6-mod-pres-multi-fare\"):\n",
    "    print(i.text)"
   ]
  },
  {
   "cell_type": "code",
   "execution_count": 79,
   "id": "2d06c4f1-5f1c-4ce4-95b7-7f01591fcfae",
   "metadata": {},
   "outputs": [
    {
     "name": "stdout",
     "output_type": "stream",
     "text": [
      "[{'departure_time': '5:45 am', 'arrival_time': '9:01 am', 'airline': 'Delta'}, {'departure_time': '6:15 am', 'arrival_time': '1:53 pm', 'airline': 'Delta'}, {'departure_time': '5:13 pm', 'arrival_time': '8:40 pm', 'airline': 'United Airlines'}, {'departure_time': '4:10 pm', 'arrival_time': '12:29 am+1', 'airline': 'United Airlines'}, {'departure_time': '7:44 pm', 'arrival_time': '7:07 am+1', 'airline': 'Frontier'}, {'departure_time': '10:20 pm', 'arrival_time': '6:12 am+1', 'airline': 'Spirit Airlines'}, {'departure_time': '5:59 am', 'arrival_time': '8:52 am', 'airline': 'American Airlines'}, {'departure_time': '3:31 pm', 'arrival_time': '11:20 pm', 'airline': 'American Airlines'}, {'departure_time': '5:59 am', 'arrival_time': '8:52 am', 'airline': 'American Airlines'}, {'departure_time': '4:20 pm', 'arrival_time': '11:50 pm', 'airline': 'American Airlines'}, {'departure_time': '2:22 pm', 'arrival_time': '6:08 pm', 'airline': 'American Airlines'}, {'departure_time': '3:31 pm', 'arrival_time': '11:20 pm', 'airline': 'American Airlines'}, {'departure_time': '2:22 pm', 'arrival_time': '6:08 pm', 'airline': 'American Airlines'}, {'departure_time': '4:20 pm', 'arrival_time': '11:50 pm', 'airline': 'American Airlines'}, {'departure_time': '1:45 pm', 'arrival_time': '5:37 pm', 'airline': 'United Airlines'}, {'departure_time': '4:10 pm', 'arrival_time': '12:29 am+1', 'airline': 'United Airlines'}, {'departure_time': '6:15 am', 'arrival_time': '9:32 am', 'airline': 'United Airlines'}, {'departure_time': '4:10 pm', 'arrival_time': '12:29 am+1', 'airline': 'United Airlines'}, {'departure_time': '5:13 pm', 'arrival_time': '8:40 pm', 'airline': 'United Airlines'}, {'departure_time': '3:55 pm', 'arrival_time': '11:35 pm', 'airline': 'United Airlines'}, {'departure_time': '3:42 pm', 'arrival_time': '7:50 pm', 'airline': 'United Airlines'}, {'departure_time': '4:10 pm', 'arrival_time': '12:29 am+1', 'airline': 'United Airlines'}, {'departure_time': '1:45 pm', 'arrival_time': '5:37 pm', 'airline': 'United Airlines'}, {'departure_time': '3:55 pm', 'arrival_time': '11:35 pm', 'airline': 'United Airlines'}, {'departure_time': '6:15 am', 'arrival_time': '9:32 am', 'airline': 'United Airlines'}, {'departure_time': '3:55 pm', 'arrival_time': '11:35 pm', 'airline': 'United Airlines'}, {'departure_time': '9:41 am', 'arrival_time': '12:37 pm', 'airline': 'United Airlines'}, {'departure_time': '4:10 pm', 'arrival_time': '12:29 am+1', 'airline': 'United Airlines'}, {'departure_time': '5:13 pm', 'arrival_time': '8:40 pm', 'airline': 'United Airlines'}, {'departure_time': '1:39 pm', 'arrival_time': '10:29 pm', 'airline': 'United Airlines'}, {'departure_time': '3:42 pm', 'arrival_time': '7:50 pm', 'airline': 'United Airlines'}, {'departure_time': '3:55 pm', 'arrival_time': '11:35 pm', 'airline': 'United Airlines'}, {'departure_time': '5:59 am', 'arrival_time': '8:52 am', 'airline': 'American Airlines'}, {'departure_time': '2:23 pm', 'arrival_time': '11:20 pm', 'airline': 'American Airlines'}]\n"
     ]
    }
   ],
   "source": [
    "# Extract flight times\n",
    "flight_times_list = []\n",
    "\n",
    "for flight in soup.find_all('div', class_='VY2U'):  \n",
    "    flight_times = flight.find_all('span')  \n",
    "    departure_time = flight_times[0].text.strip()  \n",
    "    arrival_time = flight_times[2].text.strip() \n",
    "    airline_name = flight.find('div', class_='c_cgF c_cgF-mod-variant-default')\n",
    "    airline = airline_name.text.strip()\n",
    "    flight_times_list.append({\n",
    "        \"departure_time\": departure_time,\n",
    "        \"arrival_time\": arrival_time,\n",
    "        \"airline\": airline\n",
    "    })\n",
    "\n",
    "print(flight_times_list)"
   ]
  },
  {
   "cell_type": "code",
   "execution_count": 80,
   "id": "f06ffc86-f96a-4394-8d74-f19e50577384",
   "metadata": {},
   "outputs": [
    {
     "name": "stdout",
     "output_type": "stream",
     "text": [
      "[{'outbound_flight_duration': '5h 16m', 'return_flight_duration': '5h 38m'}, {'outbound_flight_duration': '5h 27m', 'return_flight_duration': '6h 19m'}, {'outbound_flight_duration': '13h 23m', 'return_flight_duration': '5h 52m'}, {'outbound_flight_duration': '4h 53m', 'return_flight_duration': '5h 49m'}, {'outbound_flight_duration': '4h 53m', 'return_flight_duration': '5h 30m'}, {'outbound_flight_duration': '5h 46m', 'return_flight_duration': '5h 49m'}, {'outbound_flight_duration': '5h 46m', 'return_flight_duration': '5h 30m'}, {'outbound_flight_duration': '5h 52m', 'return_flight_duration': '6h 19m'}, {'outbound_flight_duration': '5h 17m', 'return_flight_duration': '6h 19m'}, {'outbound_flight_duration': '5h 27m', 'return_flight_duration': '5h 40m'}, {'outbound_flight_duration': '6h 08m', 'return_flight_duration': '6h 19m'}, {'outbound_flight_duration': '5h 52m', 'return_flight_duration': '5h 40m'}, {'outbound_flight_duration': '5h 17m', 'return_flight_duration': '5h 40m'}, {'outbound_flight_duration': '4h 56m', 'return_flight_duration': '6h 19m'}, {'outbound_flight_duration': '5h 27m', 'return_flight_duration': '6h 50m'}, {'outbound_flight_duration': '6h 08m', 'return_flight_duration': '5h 40m'}, {'outbound_flight_duration': '4h 53m', 'return_flight_duration': '6h 57m'}]\n"
     ]
    }
   ],
   "source": [
    "# Extract flight durations\n",
    "flight_durations_list = []\n",
    "\n",
    "for i in soup.find_all(id=\"listWrapper\")[0].find_all('div', class_=\"nrc6 nrc6-mod-pres-multi-fare\"):\n",
    "    duration_route = i.find_all('div', class_='xdW8')\n",
    "    outbound_flight_duration = duration_route[0].find('div', class_='vmXl vmXl-mod-variant-default').text.strip()\n",
    "    return_flight_duration = duration_route[1].find('div', class_='vmXl vmXl-mod-variant-default').text.strip()\n",
    "    flight_durations_list.append({\n",
    "        \"outbound_flight_duration\": outbound_flight_duration,\n",
    "        \"return_flight_duration\": return_flight_duration\n",
    "    })\n",
    "\n",
    "print(flight_durations_list)"
   ]
  },
  {
   "cell_type": "code",
   "execution_count": 81,
   "id": "d255cf38-8b0a-4686-b59e-91ef2f31e6be",
   "metadata": {},
   "outputs": [
    {
     "name": "stdout",
     "output_type": "stream",
     "text": [
      "[{'outbound_route': 'MCI-SAN', 'return_route': 'SAN-MCI'}, {'outbound_route': 'MCI-SAN', 'return_route': 'SAN-MCI'}, {'outbound_route': 'MCI-SAN', 'return_route': 'SAN-MCI'}, {'outbound_route': 'MCI-SAN', 'return_route': 'SAN-MCI'}, {'outbound_route': 'MCI-SAN', 'return_route': 'SAN-MCI'}, {'outbound_route': 'MCI-SAN', 'return_route': 'SAN-MCI'}, {'outbound_route': 'MCI-SAN', 'return_route': 'SAN-MCI'}, {'outbound_route': 'MCI-SAN', 'return_route': 'SAN-MCI'}, {'outbound_route': 'MCI-SAN', 'return_route': 'SAN-MCI'}, {'outbound_route': 'MCI-SAN', 'return_route': 'SAN-MCI'}, {'outbound_route': 'MCI-SAN', 'return_route': 'SAN-MCI'}, {'outbound_route': 'MCI-SAN', 'return_route': 'SAN-MCI'}, {'outbound_route': 'MCI-SAN', 'return_route': 'SAN-MCI'}, {'outbound_route': 'MCI-SAN', 'return_route': 'SAN-MCI'}, {'outbound_route': 'MCI-SAN', 'return_route': 'SAN-MCI'}, {'outbound_route': 'MCI-SAN', 'return_route': 'SAN-MCI'}, {'outbound_route': 'MCI-SAN', 'return_route': 'SAN-MCI'}]\n"
     ]
    }
   ],
   "source": [
    "# Extract flight routes\n",
    "flight_routes_list = []\n",
    "\n",
    "for i in soup.find_all(id=\"listWrapper\")[0].find_all('div', class_=\"nrc6 nrc6-mod-pres-multi-fare\"):\n",
    "    duration_route = i.find_all('div', class_='xdW8')\n",
    "    outbound_route = duration_route[0].find('div', class_='EFvI').text.strip()\n",
    "    return_route = duration_route[1].find('div', class_='EFvI').text.strip()\n",
    "    flight_routes_list.append({\n",
    "        \"outbound_route\": outbound_route,\n",
    "        \"return_route\": return_route\n",
    "    })\n",
    "print(flight_routes_list)"
   ]
  },
  {
   "cell_type": "code",
   "execution_count": 88,
   "id": "c5b50763-17b9-40c5-9b2d-02c2eac8552d",
   "metadata": {},
   "outputs": [
    {
     "name": "stdout",
     "output_type": "stream",
     "text": [
      "['$305', '$385', '$218', '$298', '$197', '$218', '$298', '$244', '$324', '$244', '$324', '$270', '$350', '$218', '$298', '$258', '$338', '$299', '$379', '$218', '$298', '$299', '$379', '$338', '$418', '$330', '$410', '$265', '$345', '$299', '$379', '$244', '$324']\n"
     ]
    }
   ],
   "source": [
    "# Extract price information\n",
    "price_list = []\n",
    "\n",
    "for i in soup.find_all(id=\"listWrapper\")[0].find_all('div', class_=\"nrc6 nrc6-mod-pres-multi-fare\"):\n",
    "    # Extract all price text elements\n",
    "    price_texts = i.find_all('div', class_=\"f8F1-price-text\")\n",
    "    \n",
    "    for price_text in price_texts:\n",
    "        price = price_text.text.strip()\n",
    "        price_list.append(price)\n",
    "\n",
    "print(price_list)"
   ]
  },
  {
   "cell_type": "code",
   "execution_count": 89,
   "id": "67cb7c08-b6db-4a4c-b8c3-ac102158b591",
   "metadata": {},
   "outputs": [
    {
     "name": "stdout",
     "output_type": "stream",
     "text": [
      "['Basic Economy', 'Main Cabin', 'Basic Economy', 'Economy', 'Economy', 'Basic Economy', 'Main Cabin', 'Basic Economy', 'Main Cabin', 'Basic Economy', 'Main Cabin', 'Basic Economy', 'Main Cabin', 'Basic Economy', 'Economy', 'Basic Economy', 'Economy', 'Basic Economy', 'Economy', 'Basic Economy', 'Economy', 'Basic Economy', 'Economy', 'Basic Economy', 'Economy', 'Basic Economy', 'Economy', 'Basic Economy', 'Economy', 'Basic Economy', 'Economy', 'Basic Economy', 'Main Cabin']\n"
     ]
    }
   ],
   "source": [
    "# Extract price information\n",
    "tier_list = []\n",
    "\n",
    "for i in soup.find_all(id=\"listWrapper\")[0].find_all('div', class_=\"nrc6 nrc6-mod-pres-multi-fare\"):\n",
    "    # Extract all price text elements\n",
    "    tier_texts = i.find_all('div', class_=\"aC3z-name aC3z-mod-ellipsis\")\n",
    "    \n",
    "    for tier_text in tier_texts:\n",
    "        tier = tier_text.text.strip()\n",
    "        tier_list.append(tier)\n",
    "\n",
    "print(tier_list)"
   ]
  },
  {
   "cell_type": "code",
   "execution_count": 8,
   "id": "4fd3e687-ff44-43f3-9ce7-da32d0fc14b3",
   "metadata": {},
   "outputs": [
    {
     "name": "stdout",
     "output_type": "stream",
     "text": [
      "Departure Time: 6:59 am\n",
      "Arrival Time: 12:55 pm\n",
      "Departure Time: 10:20 pm\n",
      "Arrival Time: 6:12 am+1\n",
      "7h 56m\n",
      "MCI-SAN\n",
      "5h 52m\n",
      "SAN-MCI\n",
      "Departure Time: 7:44 pm\n",
      "Arrival Time: 7:07 am+1\n",
      "Departure Time: 10:20 pm\n",
      "Arrival Time: 6:12 am+1\n",
      "13h 23m\n",
      "MCI-SAN\n",
      "5h 52m\n",
      "SAN-MCI\n",
      "Departure Time: 6:59 am\n",
      "Arrival Time: 12:55 pm\n",
      "Departure Time: 8:47 pm\n",
      "Arrival Time: 6:12 am+1\n",
      "7h 56m\n",
      "MCI-SAN\n",
      "7h 25m\n",
      "SAN-MCI\n",
      "Departure Time: 6:59 am\n",
      "Arrival Time: 1:56 pm\n",
      "Departure Time: 10:20 pm\n",
      "Arrival Time: 6:12 am+1\n",
      "8h 57m\n",
      "MCI-SAN\n",
      "5h 52m\n",
      "SAN-MCI\n",
      "Departure Time: 6:59 am\n",
      "Arrival Time: 1:56 pm\n",
      "Departure Time: 8:47 pm\n",
      "Arrival Time: 6:12 am+1\n",
      "8h 57m\n",
      "MCI-SAN\n",
      "7h 25m\n",
      "SAN-MCI\n",
      "Departure Time: 6:59 am\n",
      "Arrival Time: 12:55 pm\n",
      "Departure Time: 7:32 pm\n",
      "Arrival Time: 6:12 am+1\n",
      "7h 56m\n",
      "MCI-SAN\n",
      "8h 40m\n",
      "SAN-MCI\n",
      "Departure Time: 6:59 am\n",
      "Arrival Time: 1:56 pm\n",
      "Departure Time: 7:32 pm\n",
      "Arrival Time: 6:12 am+1\n",
      "8h 57m\n",
      "MCI-SAN\n",
      "8h 40m\n",
      "SAN-MCI\n",
      "Departure Time: 7:44 pm\n",
      "Arrival Time: 7:07 am+1\n",
      "Departure Time: 8:47 pm\n",
      "Arrival Time: 6:12 am+1\n",
      "13h 23m\n",
      "MCI-SAN\n",
      "7h 25m\n",
      "SAN-MCI\n",
      "Departure Time: 6:59 am\n",
      "Arrival Time: 4:41 pm\n",
      "Departure Time: 10:20 pm\n",
      "Arrival Time: 6:12 am+1\n",
      "11h 42m\n",
      "MCI-SAN\n",
      "5h 52m\n",
      "SAN-MCI\n",
      "Departure Time: 6:59 am\n",
      "Arrival Time: 4:41 pm\n",
      "Departure Time: 8:47 pm\n",
      "Arrival Time: 6:12 am+1\n",
      "11h 42m\n",
      "MCI-SAN\n",
      "7h 25m\n",
      "SAN-MCI\n",
      "Departure Time: 7:44 pm\n",
      "Arrival Time: 7:07 am+1\n",
      "Departure Time: 7:32 pm\n",
      "Arrival Time: 6:12 am+1\n",
      "13h 23m\n",
      "MCI-SAN\n",
      "8h 40m\n",
      "SAN-MCI\n",
      "Departure Time: 6:59 am\n",
      "Arrival Time: 12:55 pm\n",
      "Departure Time: 4:22 pm\n",
      "Arrival Time: 6:12 am+1\n",
      "7h 56m\n",
      "MCI-SAN\n",
      "11h 50m\n",
      "SAN-MCI\n",
      "Departure Time: 6:59 am\n",
      "Arrival Time: 4:41 pm\n",
      "Departure Time: 7:32 pm\n",
      "Arrival Time: 6:12 am+1\n",
      "11h 42m\n",
      "MCI-SAN\n",
      "8h 40m\n",
      "SAN-MCI\n",
      "Departure Time: 6:59 am\n",
      "Arrival Time: 1:56 pm\n",
      "Departure Time: 4:22 pm\n",
      "Arrival Time: 6:12 am+1\n",
      "8h 57m\n",
      "MCI-SAN\n",
      "11h 50m\n",
      "SAN-MCI\n",
      "Departure Time: 7:44 pm\n",
      "Arrival Time: 7:07 am+1\n",
      "Departure Time: 4:22 pm\n",
      "Arrival Time: 6:12 am+1\n",
      "13h 23m\n",
      "MCI-SAN\n",
      "11h 50m\n",
      "SAN-MCI\n"
     ]
    }
   ],
   "source": [
    "# Extract all flight text elements\n",
    "for i in soup.find_all(id=\"listWrapper\")[0].find_all('div', class_=\"nrc6 nrc6-mod-pres-multi-fare\"):\n",
    "    flights = i.find_all('div', class_='VY2U')  \n",
    "    for flight in flights:\n",
    "        flight_times = flight.find_all('span') \n",
    "        departure_time = flight_times[0].text.strip()  \n",
    "        arrival_time = flight_times[2].text.strip()\n",
    "        print(\"Departure Time:\", departure_time)\n",
    "        print(\"Arrival Time:\", arrival_time)\n",
    "        \n",
    "    duration_route = i.find_all('div', class_='xdW8')\n",
    "    for dr in duration_route:\n",
    "        flight_duration = dr.find('div', class_='vmXl vmXl-mod-variant-default').text.strip()\n",
    "        print(flight_duration)\n",
    "        flight_route = dr.find('div', class_='EFvI').text.strip()\n",
    "        print(flight_route)\n"
   ]
  },
  {
   "cell_type": "code",
   "execution_count": 9,
   "id": "936d0392-7922-4812-a103-9ded66b36593",
   "metadata": {},
   "outputs": [
    {
     "name": "stdout",
     "output_type": "stream",
     "text": [
      "5:45 am – 9:01 amDelta1 stopSLC5h 16mMCI-SAN6:15 am – 1:53 pmDelta1 stopLAX5h 38mSAN-MCI\n",
      "5:13 pm – 8:40 pmUnited Airlines1 stopDEN5h 27mMCI-SAN4:10 pm – 12:29 am+1United Airlines1 stopSFO6h 19mSAN-MCI\n",
      "7:44 pm – 7:07 am+1Frontier1 stopDEN13h 23mMCI-SAN10:20 pm – 6:12 am+1Spirit Airlines1 stopLAS5h 52mSAN-MCI\n",
      "5:59 am – 8:52 amAmerican Airlines1 stopPHX4h 53mMCI-SAN3:31 pm – 11:20 pmAmerican Airlines1 stopDFW5h 49mSAN-MCI\n",
      "5:59 am – 8:52 amAmerican Airlines1 stopPHX4h 53mMCI-SAN4:20 pm – 11:50 pmAmerican Airlines1 stopPHX5h 30mSAN-MCI\n",
      "2:22 pm – 6:08 pmAmerican Airlines1 stopPHX5h 46mMCI-SAN3:31 pm – 11:20 pmAmerican Airlines1 stopDFW5h 49mSAN-MCI\n",
      "2:22 pm – 6:08 pmAmerican Airlines1 stopPHX5h 46mMCI-SAN4:20 pm – 11:50 pmAmerican Airlines1 stopPHX5h 30mSAN-MCI\n",
      "1:45 pm – 5:37 pmUnited Airlines1 stopDEN5h 52mMCI-SAN4:10 pm – 12:29 am+1United Airlines1 stopSFO6h 19mSAN-MCI\n",
      "6:15 am – 9:32 amUnited Airlines1 stopDEN5h 17mMCI-SAN4:10 pm – 12:29 am+1United Airlines1 stopSFO6h 19mSAN-MCI\n",
      "5:13 pm – 8:40 pmUnited Airlines1 stopDEN5h 27mMCI-SAN3:55 pm – 11:35 pmUnited Airlines1 stopDEN5h 40mSAN-MCI\n",
      "3:42 pm – 7:50 pmUnited Airlines1 stopIAH6h 08mMCI-SAN4:10 pm – 12:29 am+1United Airlines1 stopSFO6h 19mSAN-MCI\n",
      "1:45 pm – 5:37 pmUnited Airlines1 stopDEN5h 52mMCI-SAN3:55 pm – 11:35 pmUnited Airlines1 stopDEN5h 40mSAN-MCI\n",
      "6:15 am – 9:32 amUnited Airlines1 stopDEN5h 17mMCI-SAN3:55 pm – 11:35 pmUnited Airlines1 stopDEN5h 40mSAN-MCI\n",
      "9:41 am – 12:37 pmUnited Airlines1 stopDEN4h 56mMCI-SAN4:10 pm – 12:29 am+1United Airlines1 stopSFO6h 19mSAN-MCI\n",
      "5:13 pm – 8:40 pmUnited Airlines1 stopDEN5h 27mMCI-SAN1:39 pm – 10:29 pmUnited Airlines1 stopIAH6h 50mSAN-MCI\n",
      "3:42 pm – 7:50 pmUnited Airlines1 stopIAH6h 08mMCI-SAN3:55 pm – 11:35 pmUnited Airlines1 stopDEN5h 40mSAN-MCI\n",
      "5:59 am – 8:52 amAmerican Airlines1 stopPHX4h 53mMCI-SAN2:23 pm – 11:20 pmAmerican Airlines1 stopDFW6h 57mSAN-MCI\n"
     ]
    }
   ],
   "source": [
    "# Extract all flight text elements\n",
    "for i in soup.find_all(id=\"listWrapper\")[0].find_all('div', class_ = \"hJSA\"): \n",
    "    #print(i.next_element.next_element.next_element.next_element.find('span'))\n",
    "    #print(i.find('hJSA-item'))\n",
    "    print(i.text)\n",
    "    #<div data-resultid=, class=\"nrc6\""
   ]
  },
  {
   "cell_type": "code",
   "execution_count": 10,
   "id": "fb130a10-8e50-4bb4-96d4-c88c319f07df",
   "metadata": {},
   "outputs": [
    {
     "name": "stdout",
     "output_type": "stream",
     "text": [
      "$305Basic EconomyDelta\n",
      "$385Main CabinDelta\n",
      "$218Basic EconomyUnited Airlines\n",
      "$298EconomyUnited Airlines\n",
      "$197EconomyBooking.com\n",
      "$218Basic EconomyAmerican Airlines\n",
      "$298Main CabinAmerican Airlines\n",
      "$244Basic EconomyAmerican Airlines\n",
      "$324Main CabinAmerican Airlines\n",
      "$244Basic EconomyAmerican Airlines\n",
      "$324Main CabinAmerican Airlines\n",
      "$270Basic EconomyAmerican Airlines\n",
      "$350Main CabinAmerican Airlines\n",
      "$218Basic EconomyUnited Airlines\n",
      "$298EconomyUnited Airlines\n",
      "$258Basic EconomyUnited Airlines\n",
      "$338EconomyUnited Airlines\n",
      "$299Basic EconomyUnited Airlines\n",
      "$379EconomyUnited Airlines\n",
      "$218Basic EconomyUnited Airlines\n",
      "$298EconomyUnited Airlines\n",
      "$299Basic EconomyUnited Airlines\n",
      "$379EconomyUnited Airlines\n",
      "$338Basic EconomyUnited Airlines\n",
      "$418EconomyUnited Airlines\n",
      "$330Basic EconomyUnited Airlines\n",
      "$410EconomyUnited Airlines\n",
      "$265Basic EconomyUnited Airlines\n",
      "$345EconomyUnited Airlines\n",
      "$299Basic EconomyUnited Airlines\n",
      "$379EconomyUnited Airlines\n",
      "$244Basic EconomyAmerican Airlines\n",
      "$324Main CabinAmerican Airlines\n"
     ]
    }
   ],
   "source": [
    "# Extract all flight text elements\n",
    "for i in soup.find_all(id=\"listWrapper\")[0].find_all('div', class_ = \"M_JD-large-display\"):\n",
    "    #print(i.next_element.next_element.next_element.next_element.find('span'))\n",
    "    #print(i.find('hJSA-item'))\n",
    "    print(i.text)\n"
   ]
  },
  {
   "cell_type": "code",
   "execution_count": 51,
   "id": "c43b27e5",
   "metadata": {},
   "outputs": [],
   "source": [
    "browser.quit()"
   ]
  },
  {
   "cell_type": "code",
   "execution_count": null,
   "id": "d4c1c5b2",
   "metadata": {},
   "outputs": [],
   "source": []
  }
 ],
 "metadata": {
  "kernelspec": {
   "display_name": "Python 3 (ipykernel)",
   "language": "python",
   "name": "python3"
  },
  "language_info": {
   "codemirror_mode": {
    "name": "ipython",
    "version": 3
   },
   "file_extension": ".py",
   "mimetype": "text/x-python",
   "name": "python",
   "nbconvert_exporter": "python",
   "pygments_lexer": "ipython3",
   "version": "3.10.14"
  }
 },
 "nbformat": 4,
 "nbformat_minor": 5
}
