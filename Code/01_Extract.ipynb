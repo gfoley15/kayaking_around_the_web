{
 "cells": [
  {
   "cell_type": "code",
   "execution_count": 23,
   "id": "cc953f5a",
   "metadata": {},
   "outputs": [],
   "source": [
    "# Import Splinter, BeautifulSoup and dependencies\n",
    "import requests\n",
    "from bs4 import BeautifulSoup as bs\n",
    "from pymongo import MongoClient\n",
    "from splinter import Browser\n",
    "import time\n",
    "import pandas as pd\n",
    "from pprint import pprint\n"
   ]
  },
  {
   "cell_type": "code",
   "execution_count": 24,
   "id": "e5c10fe8-402d-471f-9a84-36bf3ff11785",
   "metadata": {},
   "outputs": [],
   "source": [
    "# Create an instance of MongoClient\n",
    "mongo = MongoClient(port=27017)\n",
    "\n",
    "# assign the met database to a variable name\n",
    "db = mongo['kayak']\n",
    "\n",
    "# assign the collection to a variable\n",
    "flight_search = db['flight_search']\n"
   ]
  },
  {
   "cell_type": "code",
   "execution_count": null,
   "id": "e423ecdb-03fb-4870-b174-92ebbcf2e6ce",
   "metadata": {},
   "outputs": [],
   "source": [
    "# flight_search.delete_many({}) #empty the collection"
   ]
  },
  {
   "cell_type": "markdown",
   "id": "b4192850-49f6-406b-9844-500cc047df64",
   "metadata": {},
   "source": [
    "# Airport Code Web Scrape"
   ]
  },
  {
   "cell_type": "code",
   "execution_count": 4,
   "id": "27e70df6-442c-4150-87a2-6e8fa758df7f",
   "metadata": {},
   "outputs": [],
   "source": [
    "# Launch browser\n",
    "browser = Browser('chrome')\n",
    "time.sleep(2)\n",
    "url = \"https://en.wikipedia.org/wiki/List_of_busiest_airports_by_passenger_traffic\"\n",
    "browser.visit(url)\n"
   ]
  },
  {
   "cell_type": "code",
   "execution_count": 5,
   "id": "ce61dc29-e13b-43ab-a2a8-845c19300e6b",
   "metadata": {},
   "outputs": [],
   "source": [
    "# Create Beautiful Soup\n",
    "html = browser.html\n",
    "soup = bs(html, 'html.parser')\n",
    "table = soup.find('table', class_='wikitable sortable jquery-tablesorter')"
   ]
  },
  {
   "cell_type": "code",
   "execution_count": 10,
   "id": "03b70de9-5702-49f2-a091-0b189f9c30d3",
   "metadata": {},
   "outputs": [],
   "source": [
    "# Create an empty list\n",
    "airports = []\n",
    "rows = table.find_all('tr', class_=False)\n",
    "# Loop through the scraped data to create a list of rows\n",
    "for row in rows:\n",
    "    row_data_id = row.find_all('td')\n",
    "    row = [row.text for row in row_data_id]  \n",
    "    airports.append(row)\n"
   ]
  },
  {
   "cell_type": "code",
   "execution_count": 12,
   "id": "234fc4ea-0859-4a9e-b157-edf76fc0ce63",
   "metadata": {},
   "outputs": [],
   "source": [
    "# Create airports dataframe\n",
    "airports_df = pd.DataFrame(airports, \n",
    "                           columns = [\"Rank\",\n",
    "                                      \"Airport\",\n",
    "                                      \"Location\",\n",
    "                                      \"Country\",\n",
    "                                      \"A/P Code\",\n",
    "                                      \"Total Passengers\",\n",
    "                                      \"Rank Change\",\n",
    "                                      \"Rank pct change\"\n",
    "                                     ])"
   ]
  },
  {
   "cell_type": "code",
   "execution_count": 13,
   "id": "bed5aad7-d518-4b2e-80c2-f0406e94e5be",
   "metadata": {},
   "outputs": [],
   "source": [
    "# Remove unnecessary fields\n",
    "airports_df = airports_df.drop(columns=[\"Rank Change\", \"Rank pct change\"])"
   ]
  },
  {
   "cell_type": "code",
   "execution_count": 14,
   "id": "cc62bd9b-96ac-46ee-9d5d-ec1810609fc2",
   "metadata": {},
   "outputs": [],
   "source": [
    "# Drop blank values\n",
    "airports_df = airports_df.dropna()"
   ]
  },
  {
   "cell_type": "code",
   "execution_count": 15,
   "id": "6958825b-2542-4f4a-9840-ede799a92575",
   "metadata": {},
   "outputs": [],
   "source": [
    "# Split the airport code from the A/P Code.\n",
    "airports_df[['IATA', 'ICAO Code']] = airports_df['A/P Code'].str.split('/', expand=True)"
   ]
  },
  {
   "cell_type": "code",
   "execution_count": 22,
   "id": "6b2cc622-890e-4887-93d1-8278e6295525",
   "metadata": {},
   "outputs": [],
   "source": [
    "# Export for collaboration purposes\n",
    "airports_df.to_csv('../Output/airports_df.csv',index=False) "
   ]
  },
  {
   "cell_type": "markdown",
   "id": "2f900c86-df43-46ea-a6f4-c20b9f591e12",
   "metadata": {},
   "source": [
    "# Kayak.com Web Scrape & MongoDB Insertion"
   ]
  },
  {
   "cell_type": "code",
   "execution_count": null,
   "id": "8a30454e",
   "metadata": {},
   "outputs": [],
   "source": [
    "# Complete loop for destination airports and kayak flights\n",
    "airport_codes = airports_df['IATA'].tolist()\n",
    "departure = 'MCI' \n",
    "\n",
    "from_date = input(\"Enter departure date (YYYY-MM-DD): \")\n",
    "to_date = input(\"Enter return date (YYYY-MM-DD): \")\n",
    "\n",
    "browser = Browser('chrome')\n",
    "trip_data = []\n",
    "\n",
    "# Loop through each airport code\n",
    "for airport in airport_codes:\n",
    "    destination = airport\n",
    "    url = f\"https://www.kayak.com/flights/{departure}-{destination}/{from_date}/{to_date}\"\n",
    "    browser.visit(url)\n",
    "    time.sleep(10)\n",
    "    print(url)\n",
    "    \n",
    "    # Create a Beautiful Soup object\n",
    "    soup = bs(browser.html,'html.parser')\n",
    "\n",
    "    # Loop through HTML code and extract key metadata\n",
    "    for trip_id, i in enumerate(soup.find_all(id=\"listWrapper\")[0].find_all('div', class_=\"nrc6 nrc6-mod-pres-multi-fare\")):\n",
    "        trip = {\n",
    "            \"trip_id\": trip_id,\n",
    "            \"outbound_date\": from_date,\n",
    "            \"return_date\": to_date,\n",
    "            \"outbound_departure_time\": \"\",\n",
    "            \"outbound_arrival_time\": \"\",\n",
    "            \"outbound_flight_duration\": \"\",\n",
    "            \"outbound_route\": \"\",\n",
    "            \"outbound_airline\": \"\",\n",
    "            \"return_departure_time\": \"\",\n",
    "            \"return_arrival_time\": \"\",\n",
    "            \"return_flight_duration\": \"\",\n",
    "            \"return_route\": \"\",\n",
    "            \"return_airline\": \"\",\n",
    "            \"price\": \"\",\n",
    "            \"tier\": \"\"\n",
    "        }\n",
    "        \n",
    "        # Extract outbound flight data\n",
    "        outbound_flight_info = i.find_all('div', class_='VY2U')[0]\n",
    "        outbound_flight_times = outbound_flight_info.find_all('span')\n",
    "        trip[\"outbound_departure_time\"] = outbound_flight_times[0].text.strip()\n",
    "        trip[\"outbound_arrival_time\"] = outbound_flight_times[2].text.strip()\n",
    "        outbound_airline_name = outbound_flight_info.find('div', class_='c_cgF c_cgF-mod-variant-default')\n",
    "        trip[\"outbound_airline\"] = outbound_airline_name.text.strip()\n",
    "        trip[\"outbound_flight_duration\"] = i.find('div', class_='xdW8').find('div', class_='vmXl vmXl-mod-variant-default').text.strip()\n",
    "        trip[\"outbound_route\"] = i.find('div', class_='xdW8').find('div', class_='EFvI').text.strip()\n",
    "        \n",
    "        # Extract return flight data\n",
    "        return_flight_info = i.find_all('div', class_='VY2U')[1]\n",
    "        return_flight_times = return_flight_info.find_all('span')\n",
    "        trip[\"return_departure_time\"] = return_flight_times[0].text.strip()\n",
    "        trip[\"return_arrival_time\"] = return_flight_times[2].text.strip()\n",
    "        return_airline_name = return_flight_info.find('div', class_='c_cgF c_cgF-mod-variant-default')\n",
    "        trip[\"return_airline\"] = return_airline_name.text.strip()\n",
    "        trip[\"return_flight_duration\"] = i.find_all('div', class_='xdW8')[1].find('div', class_='vmXl vmXl-mod-variant-default').text.strip()\n",
    "        trip[\"return_route\"] = i.find_all('div', class_='xdW8')[1].find('div', class_='EFvI').text.strip()\n",
    "        \n",
    "        # Extract price and tier\n",
    "        trip[\"price\"] = i.find('div', class_=\"f8F1-price-text\").text.strip()\n",
    "        trip[\"tier\"] = i.find('div', class_=\"aC3z-name aC3z-mod-ellipsis\").text.strip()\n",
    "\n",
    "        # Append HTML elements into trip_data list\n",
    "        trip_data.append(trip)\n",
    "        time.sleep(10)\n",
    "\n",
    "# Insert all trip data into flight search Mondo DB\n",
    "flight_search.insert_many(trip_data)\n",
    "\n",
    "browser.quit()"
   ]
  }
 ],
 "metadata": {
  "kernelspec": {
   "display_name": "Python 3 (ipykernel)",
   "language": "python",
   "name": "python3"
  },
  "language_info": {
   "codemirror_mode": {
    "name": "ipython",
    "version": 3
   },
   "file_extension": ".py",
   "mimetype": "text/x-python",
   "name": "python",
   "nbconvert_exporter": "python",
   "pygments_lexer": "ipython3",
   "version": "3.10.14"
  }
 },
 "nbformat": 4,
 "nbformat_minor": 5
}
